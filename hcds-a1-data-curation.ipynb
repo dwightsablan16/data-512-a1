{
 "cells": [
  {
   "cell_type": "markdown",
   "metadata": {},
   "source": [
    "# <center>DATA 512 Homework 1: Data Curation</center>\n",
    "<center>Fall 2021</center>\n",
    "<center>Author: Dwight Sablan</center>"
   ]
  },
  {
   "cell_type": "markdown",
   "metadata": {},
   "source": [
    "The goal of this assignment is to construct, analyze, and publish a dataset of monthly traffic on English Wikipedia from January 1 2008 through August 30 2021. All analysis should be performed in a single Jupyter notebook. For this assignment, I combine data about Wikipedia page traffic from two different Wikimedia REST API endpoints into a single dataset, perform some simple data processing steps on the data, and then analyze that data."
   ]
  },
  {
   "cell_type": "markdown",
   "metadata": {},
   "source": [
    "## Step 1: Data Acqusition"
   ]
  },
  {
   "cell_type": "markdown",
   "metadata": {},
   "source": [
    "IMPORT DEPENDECIES"
   ]
  },
  {
   "cell_type": "code",
   "execution_count": 16,
   "metadata": {},
   "outputs": [],
   "source": [
    "import json\n",
    "import requests\n",
    "\n",
    "import pandas as pd\n",
    "import matplotlib.pyplot as plt"
   ]
  },
  {
   "cell_type": "markdown",
   "metadata": {},
   "source": [
    "Set a unique User-Agent or Api-User-Agent header that allows Wikimedia to contact you quickly. Email addresses or URLs of contact pages work well."
   ]
  },
  {
   "cell_type": "code",
   "execution_count": 26,
   "metadata": {},
   "outputs": [],
   "source": [
    "headers = {\n",
    "    'User-Agent': 'https://github.com/dwightsablan16',\n",
    "    'From': 'sabland@uw.edu'\n",
    "}"
   ]
  },
  {
   "cell_type": "markdown",
   "metadata": {},
   "source": [
    "Here we set two endpoints for retrieving our data, one to get Pageviews data and the other for Pagecounts data."
   ]
  },
  {
   "cell_type": "code",
   "execution_count": 43,
   "metadata": {},
   "outputs": [],
   "source": [
    "endpoint_pageviews = 'https://wikimedia.org/api/rest_v1/metrics/pageviews/aggregate/{project}/{access}/{agent}/{granularity}/{start}/{end}'\n",
    "\n",
    "endpoint_pagecounts = 'https://wikimedia.org/api/rest_v1/metrics/legacy/pagecounts/aggregate/{project}/{access-site}/{granularity}/{start}/{end}'"
   ]
  },
  {
   "cell_type": "markdown",
   "metadata": {},
   "source": [
    "Note: We're interested in organic (user) traffic, as opposed to traffic by web crawlers or spiders. for Pageviews include 'agent' parameter to do this. "
   ]
  },
  {
   "cell_type": "markdown",
   "metadata": {},
   "source": [
    "PARAMETERS FOR DESKTOP PAGEVIEWS "
   ]
  },
  {
   "cell_type": "code",
   "execution_count": 30,
   "metadata": {},
   "outputs": [],
   "source": [
    "#desktop pageviews\n",
    "d_params_pageviews = {'project' : 'en.wikipedia.org',\n",
    "            'access' : 'desktop',\n",
    "            'agent' : 'user',\n",
    "            'granularity' : 'monthly',\n",
    "            'start' : '2015070100',\n",
    "            #use the first day of the following month to ensure a full month of data is collected\n",
    "            'end' : '2021090100'\n",
    "            }"
   ]
  },
  {
   "cell_type": "markdown",
   "metadata": {},
   "source": [
    "PARAMETERS FOR MOBILE-WEB PAGEVIEWS "
   ]
  },
  {
   "cell_type": "code",
   "execution_count": 36,
   "metadata": {},
   "outputs": [],
   "source": [
    "#mobile-web pageviews\n",
    "mw_params_pageviews = {'project' : 'en.wikipedia.org',\n",
    "            'access' : 'mobile-web',\n",
    "            'agent' : 'user',\n",
    "            'granularity' : 'monthly',\n",
    "            'start' : '2015070100',\n",
    "            #use the first day of the following month to ensure a full month of data is collected\n",
    "            'end' : '2021090100'\n",
    "            }"
   ]
  },
  {
   "cell_type": "markdown",
   "metadata": {},
   "source": [
    "PARAMETERS FOR MOBILE-APP PAGEVIEWS "
   ]
  },
  {
   "cell_type": "code",
   "execution_count": 37,
   "metadata": {},
   "outputs": [],
   "source": [
    "#mobile-app pageviews\n",
    "ma_params_pageviews = {'project' : 'en.wikipedia.org',\n",
    "            'access' : 'mobile-app',\n",
    "            'agent' : 'user',\n",
    "            'granularity' : 'monthly',\n",
    "            'start' : '2015070100',\n",
    "            #use the first day of the following month to ensure a full month of data is collected\n",
    "            'end' : '2021090100'\n",
    "            }"
   ]
  },
  {
   "cell_type": "markdown",
   "metadata": {},
   "source": [
    "PARAMETERS FOR DESKTOP PAGECOUNTS"
   ]
  },
  {
   "cell_type": "code",
   "execution_count": 45,
   "metadata": {},
   "outputs": [],
   "source": [
    "#desktop pagecounts\n",
    "d_params_pagecounts = {'project' : 'en.wikipedia',\n",
    "            'access-site' : 'desktop-site',\n",
    "            'granularity' : 'monthly',\n",
    "            'start' : '2007120100',\n",
    "              #use the first day of the following month to ensure a full month of data is collected\n",
    "            'end' : '2016080100'\n",
    "            }"
   ]
  },
  {
   "cell_type": "markdown",
   "metadata": {},
   "source": [
    "PARAMETERS FOR MOBILE PAGECOUNTS"
   ]
  },
  {
   "cell_type": "code",
   "execution_count": 46,
   "metadata": {},
   "outputs": [],
   "source": [
    "#mobile pagecounts\n",
    "m_params_pagecounts = {'project' : 'en.wikipedia',\n",
    "            'access-site' : 'mobile-site',\n",
    "            'granularity' : 'monthly',\n",
    "            'start' : '2007120100',\n",
    "              #use the first day of the following month to ensure a full month of data is collected\n",
    "            'end' : '2016080100'\n",
    "            }"
   ]
  },
  {
   "cell_type": "markdown",
   "metadata": {},
   "source": [
    "Here we define a function that takes in three arguments: <br> \n",
    "- endpoint \n",
    "- dictionary of parameters for data we want\n",
    "- the file name we want to save it as."
   ]
  },
  {
   "cell_type": "code",
   "execution_count": 47,
   "metadata": {},
   "outputs": [],
   "source": [
    "def api_call(endpoint, parameters, filename):\n",
    "    call = requests.get(endpoint.format(**parameters), headers=headers)\n",
    "    response = call.json()\n",
    "    \n",
    "    #Save json\n",
    "    with open(filename,'w') as f:\n",
    "        json.dump(response,f)\n",
    "    \n",
    "    return response"
   ]
  },
  {
   "cell_type": "markdown",
   "metadata": {},
   "source": [
    "Here we call our function with the necessary parameters to load our data into our 5 source files. "
   ]
  },
  {
   "cell_type": "code",
   "execution_count": 57,
   "metadata": {},
   "outputs": [],
   "source": [
    "#Pageviews\n",
    "d_pageviews = api_call(endpoint_pageviews, d_params_pageviews,'pageviews_desktop_201507-202109.json')\n",
    "mw_pageviews = api_call(endpoint_pageviews, mw_params_pageviews,'pageviews_mobile-web_201507-202109.json')\n",
    "ma_pageviews = api_call(endpoint_pageviews, ma_params_pageviews, 'pageviews_mobile-app_201507-202109.json')"
   ]
  },
  {
   "cell_type": "code",
   "execution_count": 58,
   "metadata": {},
   "outputs": [],
   "source": [
    "#Pagecounts\n",
    "d_pagecounts = api_call(endpoint_pagecounts, d_params_pagecounts,'pagecounts_desktop-site_200712-201607.json')\n",
    "m_pagecounts = api_call(endpoint_pagecounts, m_params_pagecounts,'pagecounts_mobile-site_200712-201607.json')"
   ]
  },
  {
   "cell_type": "markdown",
   "metadata": {},
   "source": [
    "## Step 2: Data Processing"
   ]
  },
  {
   "cell_type": "markdown",
   "metadata": {},
   "source": [
    "The next step is to process the data.  For this assignment, not much data pre-processing is necessary. The steps are as follows:\n",
    "\n",
    "- Load data from JSON files to pandas dataframes\n",
    "- Combine mobile-web and mobile-app pageviews\n",
    "- Create new dataframes for total pageviews and pagecounts\n",
    "- Drop columns not needed in analysis\n",
    "- Merge all dataframes into a single dataframe\n",
    "- Export final dataframe to .csv"
   ]
  },
  {
   "cell_type": "markdown",
   "metadata": {},
   "source": [
    "LOAD DATA FROM JSON FILES TO DATAFRAME OBJECTS"
   ]
  },
  {
   "cell_type": "code",
   "execution_count": 66,
   "metadata": {},
   "outputs": [],
   "source": [
    "#Load pageviews data in dataframe object\n",
    "d_pageviews_df = pd.DataFrame(d_pageviews['items'])\n",
    "mw_pageviews_df = pd.DataFrame(mw_pageviews['items'])\n",
    "ma_pageviews_df = pd.DataFrame(ma_pageviews['items'])\n",
    "\n",
    "#Load pagecounts data in dataframe object\n",
    "d_pagecounts_df = pd.DataFrame(d_pagecounts['items'])\n",
    "m_pagecounts_df = pd.DataFrame(m_pagecounts['items'])"
   ]
  },
  {
   "cell_type": "markdown",
   "metadata": {},
   "source": [
    "For data collected from the Pageviews API, combine the monthly values for mobile-app and mobile-web to create a total mobile traffic count for each month"
   ]
  },
  {
   "cell_type": "markdown",
   "metadata": {},
   "source": [
    "MOBILE PAGEVIEWS"
   ]
  },
  {
   "cell_type": "code",
   "execution_count": 95,
   "metadata": {},
   "outputs": [
    {
     "data": {
      "text/html": [
       "<div>\n",
       "<style scoped>\n",
       "    .dataframe tbody tr th:only-of-type {\n",
       "        vertical-align: middle;\n",
       "    }\n",
       "\n",
       "    .dataframe tbody tr th {\n",
       "        vertical-align: top;\n",
       "    }\n",
       "\n",
       "    .dataframe thead th {\n",
       "        text-align: right;\n",
       "    }\n",
       "</style>\n",
       "<table border=\"1\" class=\"dataframe\">\n",
       "  <thead>\n",
       "    <tr style=\"text-align: right;\">\n",
       "      <th></th>\n",
       "      <th>date</th>\n",
       "      <th>pageview_mobile_views</th>\n",
       "    </tr>\n",
       "  </thead>\n",
       "  <tbody>\n",
       "    <tr>\n",
       "      <th>0</th>\n",
       "      <td>2015070100</td>\n",
       "      <td>3288755294</td>\n",
       "    </tr>\n",
       "    <tr>\n",
       "      <th>1</th>\n",
       "      <td>2015080100</td>\n",
       "      <td>3302333038</td>\n",
       "    </tr>\n",
       "    <tr>\n",
       "      <th>2</th>\n",
       "      <td>2015090100</td>\n",
       "      <td>3170203333</td>\n",
       "    </tr>\n",
       "    <tr>\n",
       "      <th>3</th>\n",
       "      <td>2015100100</td>\n",
       "      <td>3268499132</td>\n",
       "    </tr>\n",
       "    <tr>\n",
       "      <th>4</th>\n",
       "      <td>2015110100</td>\n",
       "      <td>3236601070</td>\n",
       "    </tr>\n",
       "  </tbody>\n",
       "</table>\n",
       "</div>"
      ],
      "text/plain": [
       "         date  pageview_mobile_views\n",
       "0  2015070100             3288755294\n",
       "1  2015080100             3302333038\n",
       "2  2015090100             3170203333\n",
       "3  2015100100             3268499132\n",
       "4  2015110100             3236601070"
      ]
     },
     "execution_count": 95,
     "metadata": {},
     "output_type": "execute_result"
    }
   ],
   "source": [
    "#Combine monthly values for mobile-web and mobile-app pageviews \n",
    "m_pageviews_df = pd.concat((mw_pageviews_df,ma_pageviews_df)).groupby('timestamp',as_index=False).sum()\n",
    "\n",
    "m_pageviews_df.columns = [\"date\",\"pageview_mobile_views\"]\n",
    "\n",
    "m_pageviews_df.head()"
   ]
  },
  {
   "cell_type": "markdown",
   "metadata": {},
   "source": [
    "TOTAL PAGEVIEWS"
   ]
  },
  {
   "cell_type": "code",
   "execution_count": 86,
   "metadata": {},
   "outputs": [
    {
     "data": {
      "text/html": [
       "<div>\n",
       "<style scoped>\n",
       "    .dataframe tbody tr th:only-of-type {\n",
       "        vertical-align: middle;\n",
       "    }\n",
       "\n",
       "    .dataframe tbody tr th {\n",
       "        vertical-align: top;\n",
       "    }\n",
       "\n",
       "    .dataframe thead th {\n",
       "        text-align: right;\n",
       "    }\n",
       "</style>\n",
       "<table border=\"1\" class=\"dataframe\">\n",
       "  <thead>\n",
       "    <tr style=\"text-align: right;\">\n",
       "      <th></th>\n",
       "      <th>date</th>\n",
       "      <th>pageviews_all_views</th>\n",
       "    </tr>\n",
       "  </thead>\n",
       "  <tbody>\n",
       "    <tr>\n",
       "      <th>0</th>\n",
       "      <td>2015070100</td>\n",
       "      <td>7665421980</td>\n",
       "    </tr>\n",
       "    <tr>\n",
       "      <th>1</th>\n",
       "      <td>2015080100</td>\n",
       "      <td>7634815221</td>\n",
       "    </tr>\n",
       "    <tr>\n",
       "      <th>2</th>\n",
       "      <td>2015090100</td>\n",
       "      <td>7655695037</td>\n",
       "    </tr>\n",
       "    <tr>\n",
       "      <th>3</th>\n",
       "      <td>2015100100</td>\n",
       "      <td>7746031887</td>\n",
       "    </tr>\n",
       "    <tr>\n",
       "      <th>4</th>\n",
       "      <td>2015110100</td>\n",
       "      <td>7524321290</td>\n",
       "    </tr>\n",
       "  </tbody>\n",
       "</table>\n",
       "</div>"
      ],
      "text/plain": [
       "         date  pageviews_all_views\n",
       "0  2015070100           7665421980\n",
       "1  2015080100           7634815221\n",
       "2  2015090100           7655695037\n",
       "3  2015100100           7746031887\n",
       "4  2015110100           7524321290"
      ]
     },
     "execution_count": 86,
     "metadata": {},
     "output_type": "execute_result"
    }
   ],
   "source": [
    "#Total pageviews\n",
    "total_pageviews_df = pd.concat((d_pageviews_df,m_pageviews_df)).groupby('timestamp',as_index=False).sum()\n",
    "\n",
    "#adjust column names\n",
    "total_pageviews_df.columns = [\"date\",\"pageviews_all_views\"]\n",
    "\n",
    "#print first five data points\n",
    "total_pageviews_df.head()"
   ]
  },
  {
   "cell_type": "markdown",
   "metadata": {},
   "source": [
    "TOTAL PAGECOUNTS"
   ]
  },
  {
   "cell_type": "code",
   "execution_count": 87,
   "metadata": {},
   "outputs": [
    {
     "data": {
      "text/html": [
       "<div>\n",
       "<style scoped>\n",
       "    .dataframe tbody tr th:only-of-type {\n",
       "        vertical-align: middle;\n",
       "    }\n",
       "\n",
       "    .dataframe tbody tr th {\n",
       "        vertical-align: top;\n",
       "    }\n",
       "\n",
       "    .dataframe thead th {\n",
       "        text-align: right;\n",
       "    }\n",
       "</style>\n",
       "<table border=\"1\" class=\"dataframe\">\n",
       "  <thead>\n",
       "    <tr style=\"text-align: right;\">\n",
       "      <th></th>\n",
       "      <th>date</th>\n",
       "      <th>pagecounts_all_views</th>\n",
       "    </tr>\n",
       "  </thead>\n",
       "  <tbody>\n",
       "    <tr>\n",
       "      <th>0</th>\n",
       "      <td>2007120100</td>\n",
       "      <td>2998331524</td>\n",
       "    </tr>\n",
       "    <tr>\n",
       "      <th>1</th>\n",
       "      <td>2008010100</td>\n",
       "      <td>4930902570</td>\n",
       "    </tr>\n",
       "    <tr>\n",
       "      <th>2</th>\n",
       "      <td>2008020100</td>\n",
       "      <td>4818393763</td>\n",
       "    </tr>\n",
       "    <tr>\n",
       "      <th>3</th>\n",
       "      <td>2008030100</td>\n",
       "      <td>4955405809</td>\n",
       "    </tr>\n",
       "    <tr>\n",
       "      <th>4</th>\n",
       "      <td>2008040100</td>\n",
       "      <td>5159162183</td>\n",
       "    </tr>\n",
       "  </tbody>\n",
       "</table>\n",
       "</div>"
      ],
      "text/plain": [
       "         date  pagecounts_all_views\n",
       "0  2007120100            2998331524\n",
       "1  2008010100            4930902570\n",
       "2  2008020100            4818393763\n",
       "3  2008030100            4955405809\n",
       "4  2008040100            5159162183"
      ]
     },
     "execution_count": 87,
     "metadata": {},
     "output_type": "execute_result"
    }
   ],
   "source": [
    "#Total pagecounts\n",
    "total_pagecounts_df = pd.concat((d_pagecounts_df,m_pagecounts_df)).groupby('timestamp',as_index=False).sum()\n",
    "\n",
    "#adjust column names\n",
    "total_pagecounts_df.columns = [\"date\",\"pagecounts_all_views\"]\n",
    "\n",
    "#print first five data points\n",
    "total_pagecounts_df.head()"
   ]
  },
  {
   "cell_type": "markdown",
   "metadata": {},
   "source": [
    "DROP UNECESSSARY COLUMNS AND RENAME"
   ]
  },
  {
   "cell_type": "code",
   "execution_count": 102,
   "metadata": {},
   "outputs": [],
   "source": [
    "#drop the columns not needed in analysis for PAGEVIEWS dataframes\n",
    "dropped_columns = ['project', 'access', 'agent', 'granularity']\n",
    "\n",
    "#drop the columns not needed in analysis for PAGECOUNTS dataframes\n",
    "dropped_columns_2 = ['project', 'access-site', 'granularity']"
   ]
  },
  {
   "cell_type": "markdown",
   "metadata": {},
   "source": [
    "DESKTOP PAGEVIEWS"
   ]
  },
  {
   "cell_type": "code",
   "execution_count": 97,
   "metadata": {},
   "outputs": [
    {
     "data": {
      "text/html": [
       "<div>\n",
       "<style scoped>\n",
       "    .dataframe tbody tr th:only-of-type {\n",
       "        vertical-align: middle;\n",
       "    }\n",
       "\n",
       "    .dataframe tbody tr th {\n",
       "        vertical-align: top;\n",
       "    }\n",
       "\n",
       "    .dataframe thead th {\n",
       "        text-align: right;\n",
       "    }\n",
       "</style>\n",
       "<table border=\"1\" class=\"dataframe\">\n",
       "  <thead>\n",
       "    <tr style=\"text-align: right;\">\n",
       "      <th></th>\n",
       "      <th>date</th>\n",
       "      <th>pageview_desktop_views</th>\n",
       "    </tr>\n",
       "  </thead>\n",
       "  <tbody>\n",
       "    <tr>\n",
       "      <th>0</th>\n",
       "      <td>2015070100</td>\n",
       "      <td>4376666686</td>\n",
       "    </tr>\n",
       "    <tr>\n",
       "      <th>1</th>\n",
       "      <td>2015080100</td>\n",
       "      <td>4332482183</td>\n",
       "    </tr>\n",
       "    <tr>\n",
       "      <th>2</th>\n",
       "      <td>2015090100</td>\n",
       "      <td>4485491704</td>\n",
       "    </tr>\n",
       "    <tr>\n",
       "      <th>3</th>\n",
       "      <td>2015100100</td>\n",
       "      <td>4477532755</td>\n",
       "    </tr>\n",
       "    <tr>\n",
       "      <th>4</th>\n",
       "      <td>2015110100</td>\n",
       "      <td>4287720220</td>\n",
       "    </tr>\n",
       "  </tbody>\n",
       "</table>\n",
       "</div>"
      ],
      "text/plain": [
       "         date  pageview_desktop_views\n",
       "0  2015070100              4376666686\n",
       "1  2015080100              4332482183\n",
       "2  2015090100              4485491704\n",
       "3  2015100100              4477532755\n",
       "4  2015110100              4287720220"
      ]
     },
     "execution_count": 97,
     "metadata": {},
     "output_type": "execute_result"
    }
   ],
   "source": [
    "#desktop pageviews\n",
    "d_pageviews_df = d_pageviews_df.drop(columns = dropped_columns)\n",
    "\n",
    "#adjust column names\n",
    "d_pageviews_df.columns = [\"date\",\"pageview_desktop_views\"]\n",
    "\n",
    "#print first five data points\n",
    "d_pageviews_df.head()"
   ]
  },
  {
   "cell_type": "markdown",
   "metadata": {},
   "source": [
    "DESKTOP PAGECOUNTS"
   ]
  },
  {
   "cell_type": "code",
   "execution_count": 104,
   "metadata": {},
   "outputs": [
    {
     "data": {
      "text/html": [
       "<div>\n",
       "<style scoped>\n",
       "    .dataframe tbody tr th:only-of-type {\n",
       "        vertical-align: middle;\n",
       "    }\n",
       "\n",
       "    .dataframe tbody tr th {\n",
       "        vertical-align: top;\n",
       "    }\n",
       "\n",
       "    .dataframe thead th {\n",
       "        text-align: right;\n",
       "    }\n",
       "</style>\n",
       "<table border=\"1\" class=\"dataframe\">\n",
       "  <thead>\n",
       "    <tr style=\"text-align: right;\">\n",
       "      <th></th>\n",
       "      <th>date</th>\n",
       "      <th>pagecount_desktop_views</th>\n",
       "    </tr>\n",
       "  </thead>\n",
       "  <tbody>\n",
       "    <tr>\n",
       "      <th>0</th>\n",
       "      <td>2007120100</td>\n",
       "      <td>2998331524</td>\n",
       "    </tr>\n",
       "    <tr>\n",
       "      <th>1</th>\n",
       "      <td>2008010100</td>\n",
       "      <td>4930902570</td>\n",
       "    </tr>\n",
       "    <tr>\n",
       "      <th>2</th>\n",
       "      <td>2008020100</td>\n",
       "      <td>4818393763</td>\n",
       "    </tr>\n",
       "    <tr>\n",
       "      <th>3</th>\n",
       "      <td>2008030100</td>\n",
       "      <td>4955405809</td>\n",
       "    </tr>\n",
       "    <tr>\n",
       "      <th>4</th>\n",
       "      <td>2008040100</td>\n",
       "      <td>5159162183</td>\n",
       "    </tr>\n",
       "  </tbody>\n",
       "</table>\n",
       "</div>"
      ],
      "text/plain": [
       "         date  pagecount_desktop_views\n",
       "0  2007120100               2998331524\n",
       "1  2008010100               4930902570\n",
       "2  2008020100               4818393763\n",
       "3  2008030100               4955405809\n",
       "4  2008040100               5159162183"
      ]
     },
     "execution_count": 104,
     "metadata": {},
     "output_type": "execute_result"
    }
   ],
   "source": [
    "#desktop pageviews\n",
    "d_pagecounts_df = d_pagecounts_df.drop(columns = dropped_columns_2)\n",
    "\n",
    "#adjust column names\n",
    "d_pagecounts_df.columns = [\"date\",\"pagecount_desktop_views\"]\n",
    "\n",
    "#print first five data points\n",
    "d_pagecounts_df.head()"
   ]
  },
  {
   "cell_type": "markdown",
   "metadata": {},
   "source": [
    "MOBILE PAGECOUNTS"
   ]
  },
  {
   "cell_type": "code",
   "execution_count": 105,
   "metadata": {},
   "outputs": [
    {
     "data": {
      "text/html": [
       "<div>\n",
       "<style scoped>\n",
       "    .dataframe tbody tr th:only-of-type {\n",
       "        vertical-align: middle;\n",
       "    }\n",
       "\n",
       "    .dataframe tbody tr th {\n",
       "        vertical-align: top;\n",
       "    }\n",
       "\n",
       "    .dataframe thead th {\n",
       "        text-align: right;\n",
       "    }\n",
       "</style>\n",
       "<table border=\"1\" class=\"dataframe\">\n",
       "  <thead>\n",
       "    <tr style=\"text-align: right;\">\n",
       "      <th></th>\n",
       "      <th>date</th>\n",
       "      <th>pagecount_mobile_views</th>\n",
       "    </tr>\n",
       "  </thead>\n",
       "  <tbody>\n",
       "    <tr>\n",
       "      <th>0</th>\n",
       "      <td>2014100100</td>\n",
       "      <td>3091546685</td>\n",
       "    </tr>\n",
       "    <tr>\n",
       "      <th>1</th>\n",
       "      <td>2014110100</td>\n",
       "      <td>3027489668</td>\n",
       "    </tr>\n",
       "    <tr>\n",
       "      <th>2</th>\n",
       "      <td>2014120100</td>\n",
       "      <td>3278950021</td>\n",
       "    </tr>\n",
       "    <tr>\n",
       "      <th>3</th>\n",
       "      <td>2015010100</td>\n",
       "      <td>3485302091</td>\n",
       "    </tr>\n",
       "    <tr>\n",
       "      <th>4</th>\n",
       "      <td>2015020100</td>\n",
       "      <td>3091534479</td>\n",
       "    </tr>\n",
       "  </tbody>\n",
       "</table>\n",
       "</div>"
      ],
      "text/plain": [
       "         date  pagecount_mobile_views\n",
       "0  2014100100              3091546685\n",
       "1  2014110100              3027489668\n",
       "2  2014120100              3278950021\n",
       "3  2015010100              3485302091\n",
       "4  2015020100              3091534479"
      ]
     },
     "execution_count": 105,
     "metadata": {},
     "output_type": "execute_result"
    }
   ],
   "source": [
    "#desktop pageviews\n",
    "m_pagecounts_df = m_pagecounts_df.drop(columns = dropped_columns_2)\n",
    "\n",
    "#adjust column names\n",
    "m_pagecounts_df.columns = [\"date\",\"pagecount_mobile_views\"]\n",
    "\n",
    "#print first five data points\n",
    "m_pagecounts_df.head()"
   ]
  },
  {
   "cell_type": "markdown",
   "metadata": {},
   "source": [
    "COMBINE ALL DATAFRAMES"
   ]
  },
  {
   "cell_type": "code",
   "execution_count": 108,
   "metadata": {},
   "outputs": [],
   "source": [
    "#All dataframes merged on date attribute\n",
    "page_and_counts_df = total_pagecounts_df.merge(d_pagecounts_df, how='left', on='date').merge(m_pagecounts_df, how='left', on='date').merge(total_pageviews_df, how='left', on='date').merge(d_pageviews_df, how='left', on='date').merge(m_pageviews_df, how='left', on='date')\n",
    "\n",
    "#Fill NaN values with 0\n",
    "page_and_counts_df = page_and_counts_df.fillna(0)\n"
   ]
  },
  {
   "cell_type": "markdown",
   "metadata": {},
   "source": [
    "For all data, separate the value of timestamp into four-digit year (YYYY) and two-digit month (MM) and discard values for day and hour (DDHH)."
   ]
  },
  {
   "cell_type": "code",
   "execution_count": 110,
   "metadata": {},
   "outputs": [],
   "source": [
    "#extract year value from string\n",
    "year = page_and_counts_df['date'].str[0:4]\n",
    "\n",
    "#insert year into dataframe\n",
    "page_and_counts_df.insert(loc=0, value=year, column='year')\n",
    "\n",
    "#extract date value from string\n",
    "month = page_and_counts_df['date'].str[4:6]\n",
    "\n",
    "#insert year into dataframe\n",
    "page_and_counts_df.insert(loc=1, value=month, column='month')"
   ]
  },
  {
   "cell_type": "code",
   "execution_count": 115,
   "metadata": {},
   "outputs": [],
   "source": [
    "page_and_counts_df = page_and_counts_df.drop(columns = 'date')"
   ]
  },
  {
   "cell_type": "code",
   "execution_count": 116,
   "metadata": {},
   "outputs": [
    {
     "data": {
      "text/html": [
       "<div>\n",
       "<style scoped>\n",
       "    .dataframe tbody tr th:only-of-type {\n",
       "        vertical-align: middle;\n",
       "    }\n",
       "\n",
       "    .dataframe tbody tr th {\n",
       "        vertical-align: top;\n",
       "    }\n",
       "\n",
       "    .dataframe thead th {\n",
       "        text-align: right;\n",
       "    }\n",
       "</style>\n",
       "<table border=\"1\" class=\"dataframe\">\n",
       "  <thead>\n",
       "    <tr style=\"text-align: right;\">\n",
       "      <th></th>\n",
       "      <th>year</th>\n",
       "      <th>month</th>\n",
       "      <th>pagecounts_all_views</th>\n",
       "      <th>pagecount_desktop_views</th>\n",
       "      <th>pagecount_mobile_views</th>\n",
       "      <th>pageviews_all_views</th>\n",
       "      <th>pageview_desktop_views</th>\n",
       "      <th>pageview_mobile_views</th>\n",
       "    </tr>\n",
       "  </thead>\n",
       "  <tbody>\n",
       "    <tr>\n",
       "      <th>0</th>\n",
       "      <td>2007</td>\n",
       "      <td>12</td>\n",
       "      <td>2998331524</td>\n",
       "      <td>2998331524</td>\n",
       "      <td>0.0</td>\n",
       "      <td>0.0</td>\n",
       "      <td>0.0</td>\n",
       "      <td>0.0</td>\n",
       "    </tr>\n",
       "    <tr>\n",
       "      <th>1</th>\n",
       "      <td>2008</td>\n",
       "      <td>01</td>\n",
       "      <td>4930902570</td>\n",
       "      <td>4930902570</td>\n",
       "      <td>0.0</td>\n",
       "      <td>0.0</td>\n",
       "      <td>0.0</td>\n",
       "      <td>0.0</td>\n",
       "    </tr>\n",
       "    <tr>\n",
       "      <th>2</th>\n",
       "      <td>2008</td>\n",
       "      <td>02</td>\n",
       "      <td>4818393763</td>\n",
       "      <td>4818393763</td>\n",
       "      <td>0.0</td>\n",
       "      <td>0.0</td>\n",
       "      <td>0.0</td>\n",
       "      <td>0.0</td>\n",
       "    </tr>\n",
       "    <tr>\n",
       "      <th>3</th>\n",
       "      <td>2008</td>\n",
       "      <td>03</td>\n",
       "      <td>4955405809</td>\n",
       "      <td>4955405809</td>\n",
       "      <td>0.0</td>\n",
       "      <td>0.0</td>\n",
       "      <td>0.0</td>\n",
       "      <td>0.0</td>\n",
       "    </tr>\n",
       "    <tr>\n",
       "      <th>4</th>\n",
       "      <td>2008</td>\n",
       "      <td>04</td>\n",
       "      <td>5159162183</td>\n",
       "      <td>5159162183</td>\n",
       "      <td>0.0</td>\n",
       "      <td>0.0</td>\n",
       "      <td>0.0</td>\n",
       "      <td>0.0</td>\n",
       "    </tr>\n",
       "  </tbody>\n",
       "</table>\n",
       "</div>"
      ],
      "text/plain": [
       "   year month  pagecounts_all_views  pagecount_desktop_views  \\\n",
       "0  2007    12            2998331524               2998331524   \n",
       "1  2008    01            4930902570               4930902570   \n",
       "2  2008    02            4818393763               4818393763   \n",
       "3  2008    03            4955405809               4955405809   \n",
       "4  2008    04            5159162183               5159162183   \n",
       "\n",
       "   pagecount_mobile_views  pageviews_all_views  pageview_desktop_views  \\\n",
       "0                     0.0                  0.0                     0.0   \n",
       "1                     0.0                  0.0                     0.0   \n",
       "2                     0.0                  0.0                     0.0   \n",
       "3                     0.0                  0.0                     0.0   \n",
       "4                     0.0                  0.0                     0.0   \n",
       "\n",
       "   pageview_mobile_views  \n",
       "0                    0.0  \n",
       "1                    0.0  \n",
       "2                    0.0  \n",
       "3                    0.0  \n",
       "4                    0.0  "
      ]
     },
     "execution_count": 116,
     "metadata": {},
     "output_type": "execute_result"
    }
   ],
   "source": [
    "page_and_counts_df.head()"
   ]
  },
  {
   "cell_type": "markdown",
   "metadata": {},
   "source": [
    "EXPORT PAGE AND COUNTS DATAFRAME AS CSV"
   ]
  },
  {
   "cell_type": "code",
   "execution_count": 118,
   "metadata": {},
   "outputs": [],
   "source": [
    "#export dataframe to .csv file\n",
    "page_and_counts_df.to_csv('en-wikipedia_traffic_200712-202108.csv', sep=',')"
   ]
  },
  {
   "cell_type": "markdown",
   "metadata": {},
   "source": [
    "## Step 3: Analysis"
   ]
  },
  {
   "cell_type": "markdown",
   "metadata": {},
   "source": [
    "For this assignment, the analysis will be fairly straightforward: we will visualize the dataset you have created as a time series graph."
   ]
  },
  {
   "cell_type": "markdown",
   "metadata": {},
   "source": [
    "PUT THE DATA IN FORMAT NEEDED FOR VISUALIZATION"
   ]
  },
  {
   "cell_type": "code",
   "execution_count": 129,
   "metadata": {},
   "outputs": [
    {
     "data": {
      "text/plain": [
       "year                        object\n",
       "month                       object\n",
       "pagecounts_all_views         int64\n",
       "pagecount_desktop_views      int64\n",
       "pagecount_mobile_views     float64\n",
       "pageviews_all_views        float64\n",
       "pageview_desktop_views     float64\n",
       "pageview_mobile_views      float64\n",
       "dtype: object"
      ]
     },
     "execution_count": 129,
     "metadata": {},
     "output_type": "execute_result"
    }
   ],
   "source": [
    "#check datatypes of the dataframe\n",
    "page_and_counts_df.dtypes"
   ]
  },
  {
   "cell_type": "code",
   "execution_count": 130,
   "metadata": {},
   "outputs": [
    {
     "data": {
      "text/plain": [
       "0   2007-12-01\n",
       "1   2008-01-01\n",
       "2   2008-02-01\n",
       "3   2008-03-01\n",
       "4   2008-04-01\n",
       "dtype: datetime64[ns]"
      ]
     },
     "execution_count": 130,
     "metadata": {},
     "output_type": "execute_result"
    }
   ],
   "source": [
    "#convert year and month strings to datetime objects\n",
    "month = page_and_counts_df.month\n",
    "year = page_and_counts_df.year\n",
    "\n",
    "date = pd.to_datetime(month + year, format = '%m%Y')\n",
    "date.head()"
   ]
  },
  {
   "cell_type": "markdown",
   "metadata": {},
   "source": [
    "CREATE THE PLOT"
   ]
  },
  {
   "cell_type": "code",
   "execution_count": 144,
   "metadata": {},
   "outputs": [
    {
     "data": {
      "image/png": "[encoded data removed]",
      "text/plain": [
       "<Figure size 936x576 with 1 Axes>"
      ]
     },
     "metadata": {
      "needs_background": "light"
     },
     "output_type": "display_data"
    }
   ],
   "source": [
    "#Create figure and set size\n",
    "fig, ax = plt.subplots()\n",
    "fig.set_size_inches(13, 8)\n",
    "\n",
    "#Plot the data!\n",
    "\n",
    "#all views\n",
    "ax.plot(date, page_and_counts_df['pagecounts_all_views'], color = 'black')\n",
    "ax.plot(date, page_and_counts_df['pageviews_all_views'], color = 'orange')\n",
    "\n",
    "#desktop views\n",
    "ax.plot(date, page_and_counts_df['pagecount_desktop_views'], color = 'blue', linestyle = '--')\n",
    "ax.plot(date, page_and_counts_df['pageview_desktop_views'], color = 'red', linestyle = '--')\n",
    "\n",
    "#mobile views\n",
    "ax.plot(date, page_and_counts_df['pagecount_mobile_views'], color = 'green', linestyle = '--')\n",
    "ax.plot(date, page_and_counts_df['pageview_mobile_views'], color = 'purple', linestyle = '--')\n",
    "\n",
    "\n",
    "#Create axis labels, title, and legend\n",
    "\n",
    "#legend\n",
    "plt.legend([\"Total Pagecounts\", \"Total Pageviews\", \"Desktop Pagecounts\", \"Desktop Pageviews\", \"Mobile Pagecounts\", \"Mobile Pageviews\"])\n",
    "\n",
    "#title\n",
    "fig.suptitle('MONTHLY TRAFFIC ON ENGLISH WIKIPEDIA', fontsize=25)\n",
    "\n",
    "#axis labels\n",
    "ax.set_ylabel('VIEW / COUNT FREQUENCY', fontsize = 20)\n",
    "ax.set_xlabel('YEAR', fontsize = 20)\n",
    "\n",
    "#Display figure\n",
    "plt.show()"
   ]
  }
 ],
 "metadata": {
  "kernelspec": {
   "display_name": "Python 3",
   "language": "python",
   "name": "python3"
  },
  "language_info": {
   "codemirror_mode": {
    "name": "ipython",
    "version": 3
   },
   "file_extension": ".py",
   "mimetype": "text/x-python",
   "name": "python",
   "nbconvert_exporter": "python",
   "pygments_lexer": "ipython3",
   "version": "3.8.3"
  }
 },
 "nbformat": 4,
 "nbformat_minor": 4
}
